{
 "cells": [
  {
   "cell_type": "code",
   "execution_count": 3,
   "metadata": {
    "collapsed": true
   },
   "outputs": [
    {
     "name": "stdout",
     "output_type": "stream",
     "text": [
      "    Province/State        Country/Region        Lat        Long  1/22/20  \\\n",
      "0              NaN           Afghanistan  33.939110   67.709953        0   \n",
      "1              NaN               Albania  41.153300   20.168300        0   \n",
      "2              NaN               Algeria  28.033900    1.659600        0   \n",
      "3              NaN               Andorra  42.506300    1.521800        0   \n",
      "4              NaN                Angola -11.202700   17.873900        0   \n",
      "..             ...                   ...        ...         ...      ...   \n",
      "284            NaN    West Bank and Gaza  31.952200   35.233200        0   \n",
      "285            NaN  Winter Olympics 2022  39.904200  116.407400        0   \n",
      "286            NaN                 Yemen  15.552727   48.516388        0   \n",
      "287            NaN                Zambia -13.133897   27.849332        0   \n",
      "288            NaN              Zimbabwe -19.015438   29.154857        0   \n",
      "\n",
      "     1/23/20  1/24/20  1/25/20  1/26/20  1/27/20  ...  2/28/23  3/1/23  \\\n",
      "0          0        0        0        0        0  ...   209322  209340   \n",
      "1          0        0        0        0        0  ...   334391  334408   \n",
      "2          0        0        0        0        0  ...   271441  271448   \n",
      "3          0        0        0        0        0  ...    47866   47875   \n",
      "4          0        0        0        0        0  ...   105255  105277   \n",
      "..       ...      ...      ...      ...      ...  ...      ...     ...   \n",
      "284        0        0        0        0        0  ...   703228  703228   \n",
      "285        0        0        0        0        0  ...      535     535   \n",
      "286        0        0        0        0        0  ...    11945   11945   \n",
      "287        0        0        0        0        0  ...   343012  343012   \n",
      "288        0        0        0        0        0  ...   263921  264127   \n",
      "\n",
      "     3/2/23  3/3/23  3/4/23  3/5/23  3/6/23  3/7/23  3/8/23  3/9/23  \n",
      "0    209358  209362  209369  209390  209406  209436  209451  209451  \n",
      "1    334408  334427  334427  334427  334427  334427  334443  334457  \n",
      "2    271463  271469  271469  271477  271477  271490  271494  271496  \n",
      "3     47875   47875   47875   47875   47875   47875   47890   47890  \n",
      "4    105277  105277  105277  105277  105277  105277  105288  105288  \n",
      "..      ...     ...     ...     ...     ...     ...     ...     ...  \n",
      "284  703228  703228  703228  703228  703228  703228  703228  703228  \n",
      "285     535     535     535     535     535     535     535     535  \n",
      "286   11945   11945   11945   11945   11945   11945   11945   11945  \n",
      "287  343079  343079  343079  343135  343135  343135  343135  343135  \n",
      "288  264127  264127  264127  264127  264127  264127  264276  264276  \n",
      "\n",
      "[289 rows x 1147 columns]\n"
     ]
    }
   ],
   "source": [
    "import pandas as pd\n",
    "\n",
    "df_jh_confirmed = pd.read_csv(r'../0_datasets/john_hopkins/time_series_covid19_confirmed_global.csv')\n",
    "df_jh_deaths = pd.read_csv(r'../0_datasets/john_hopkins/time_series_covid19_deaths_global.csv')\n",
    "\n",
    "\n"
   ]
  },
  {
   "cell_type": "code",
   "execution_count": null,
   "outputs": [],
   "source": [],
   "metadata": {
    "collapsed": false
   }
  }
 ],
 "metadata": {
  "kernelspec": {
   "display_name": "Python 3",
   "language": "python",
   "name": "python3"
  },
  "language_info": {
   "codemirror_mode": {
    "name": "ipython",
    "version": 2
   },
   "file_extension": ".py",
   "mimetype": "text/x-python",
   "name": "python",
   "nbconvert_exporter": "python",
   "pygments_lexer": "ipython2",
   "version": "2.7.6"
  }
 },
 "nbformat": 4,
 "nbformat_minor": 0
}
