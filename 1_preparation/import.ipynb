{
 "cells": [
  {
   "cell_type": "code",
   "execution_count": 93,
   "metadata": {
    "collapsed": true
   },
   "outputs": [
    {
     "name": "stdout",
     "output_type": "stream",
     "text": [
      "None\n",
      "AoJwuNGA1-8CNFBsZW5hcnByb3Rva29sbC01MzAy\n",
      "AoJw0OW4geQCNFBsZW5hcnByb3Rva29sbC00NzQ4\n",
      "AoJw0OL0pt8CM1BsZW5hcnByb3Rva29sbC05MDg=\n",
      "No xml for id ('5301', '2020-01-15')\n"
     ]
    }
   ],
   "source": [
    "import pandas as pd\n",
    "import requests\n",
    "import xml.etree.ElementTree as ET\n",
    "from pathlib import Path\n",
    "\n",
    "apiKey = \"GmEPb1B.bfqJLIhcGAsH9fTJevTglhFpCoZyAAAdhp\"\n",
    "\n",
    "def bundestag_request(resourcetype, id):\n",
    "    method = \"get\"\n",
    "    url = f'https://search.dip.bundestag.de/api/v1/{resourcetype}'\n",
    "    if id is not None:\n",
    "        url += \"/\"+str(id)\n",
    "    headers = {\n",
    "        'Content-type': 'application/xml',\n",
    "        'Authorization': f'ApiKey {apiKey}',\n",
    "    }\n",
    "    rsp = requests.request(method, url, headers=headers, auth=None)\n",
    "    return rsp.json()\n",
    "\n",
    "def bundestag_xml(resourcetype, id):\n",
    "    file = Path(f'../0_datasets/bundestag/{resourcetype}_{id}.xml')\n",
    "    if not file.exists(): #fetch file from bundestag api if not already downloaded\n",
    "        try:\n",
    "            xmlurl = bundestag_request(resourcetype, id)['fundstelle']['xml_url']\n",
    "        except:\n",
    "            print(\"No xml for id \" + str(id))\n",
    "            return None\n",
    "        rsp = requests.request(\"get\", xmlurl)\n",
    "        with open(file, 'wb') as f:\n",
    "            f.write(rsp.content)\n",
    "\n",
    "    tree = ET.parse(file)\n",
    "    root = tree.getroot()\n",
    "    return root\n",
    "\n",
    "def bundestag_search(resourcetype, wahlperiode, datestart = \"1900-01-01\", dateend = \"2900-01-01\", cursor = None):\n",
    "    print(cursor)\n",
    "    method = \"get\"\n",
    "    url = f'https://search.dip.bundestag.de/api/v1/{resourcetype}?f.zuordnung=BT&f.datum.start={datestart}&f.datum.end={dateend}&f.wahlperiode={wahlperiode}'\n",
    "    if(cursor is not None):\n",
    "        url = url + f'&cursor={cursor}'\n",
    "\n",
    "    headers = {\n",
    "        'Content-type': 'application/xml',\n",
    "        'Authorization': f'ApiKey {apiKey}',\n",
    "    }\n",
    "    rsp = requests.request(method, url, headers=headers, auth=None)\n",
    "    data = rsp.json()\n",
    "\n",
    "    ids=[]\n",
    "    for p_id in rsp.json()[\"documents\"]:\n",
    "        ids.append((p_id[\"id\"], p_id[\"datum\"]))\n",
    "\n",
    "    if len(ids) > 0:\n",
    "        ids.append(bundestag_search(resourcetype, wahlperiode, datestart, dateend, rsp.json()[\"cursor\"]))\n",
    "\n",
    "    return ids\n",
    "\n",
    "ids = bundestag_search(\"plenarprotokoll\",\"19\")\n",
    "\n",
    "for id in ids:\n",
    "    bundestag_xml(\"plenarprotokoll\", id[0])"
   ]
  },
  {
   "cell_type": "code",
   "execution_count": null,
   "outputs": [],
   "source": [],
   "metadata": {
    "collapsed": false,
    "pycharm": {
     "is_executing": true
    }
   }
  },
  {
   "cell_type": "code",
   "execution_count": 46,
   "outputs": [],
   "source": [],
   "metadata": {
    "collapsed": false
   }
  }
 ],
 "metadata": {
  "kernelspec": {
   "display_name": "Python 3",
   "language": "python",
   "name": "python3"
  },
  "language_info": {
   "codemirror_mode": {
    "name": "ipython",
    "version": 2
   },
   "file_extension": ".py",
   "mimetype": "text/x-python",
   "name": "python",
   "nbconvert_exporter": "python",
   "pygments_lexer": "ipython2",
   "version": "2.7.6"
  }
 },
 "nbformat": 4,
 "nbformat_minor": 0
}
