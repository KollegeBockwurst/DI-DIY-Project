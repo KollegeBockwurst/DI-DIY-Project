{
 "cells": [
  {
   "cell_type": "code",
   "execution_count": 17,
   "metadata": {
    "collapsed": true
   },
   "outputs": [
    {
     "name": "stdout",
     "output_type": "stream",
     "text": [
      "Anomaly: 11003541 and [11003541, 11004045]\n",
      "Anomaly: 11004385 and [11004385, 11004862]\n",
      "2\n"
     ]
    }
   ],
   "source": [
    "import pandas as pd\n",
    "def find_deputies(string, df):\n",
    "    string = string.lower().replace('ä','ae').replace('ö','oe').replace('ü','ue').replace('ß','ss')\n",
    "    df = df.apply(lambda row: row['firstname'] in string and row['lastname'] in string, axis = 1)\n",
    "    return df[df].index.tolist()\n",
    "\n",
    "\n",
    "df_deputies = pd.read_csv('../0_datasets/integrated_data/df_deputies.csv', index_col = 0)\n",
    "dl_deputy_period = pd.read_csv('../0_datasets/integrated_data/dl_deputy_period.csv')\n",
    "df_deputies_19 = df_deputies.filter(items=dl_deputy_period[dl_deputy_period['election_period'] == 19]['deputy_id'], axis = 0)\n",
    "\n",
    "counter = 0\n",
    "for deputy in df_deputies_19.iterrows():\n",
    "    found = find_deputies(f'{deputy[1][\"firstname\"]} {deputy[1][\"lastname\"]}', df_deputies_19)\n",
    "    if len(found) != 1:\n",
    "        print(f'Anomaly: {deputy[0]} and {found}')\n",
    "        counter += 1\n",
    "print(counter)\n"
   ]
  },
  {
   "cell_type": "code",
   "execution_count": 16,
   "outputs": [
    {
     "name": "stdout",
     "output_type": "stream",
     "text": [
      "firstname                             michael\n",
      "lastname                       grosse-broemer\n",
      "title                                     NaN\n",
      "birthplace                         Oberhausen\n",
      "birthdate                          12.10.1960\n",
      "deathday                                  NaN\n",
      "fraktion                                  0.0\n",
      "jobs          ['Rechtsanwalt', 'Notar a. D.']\n",
      "Name: 11003541, dtype: object\n",
      "firstname                         michael\n",
      "lastname                            gross\n",
      "title                                 NaN\n",
      "birthplace                           Marl\n",
      "birthdate                      26.07.1956\n",
      "deathday                              NaN\n",
      "fraktion                              1.0\n",
      "jobs          ['Geschäftsbereichsleiter']\n",
      "Name: 11004045, dtype: object\n",
      "firstname                                            martina\n",
      "lastname                                              renner\n",
      "title                                                    NaN\n",
      "birthplace                                             Mainz\n",
      "birthdate                                         11.03.1967\n",
      "deathday                                                 NaN\n",
      "fraktion                                                 5.0\n",
      "jobs          ['Autorin', 'Wissenschaftliche Mitarbeiterin']\n",
      "Name: 11004385, dtype: object\n",
      "firstname                     martin\n",
      "lastname                      renner\n",
      "title                            NaN\n",
      "birthplace                Reutlingen\n",
      "birthdate                 05.05.1954\n",
      "deathday                         NaN\n",
      "fraktion                         4.0\n",
      "jobs          ['Dipl.-Betriebswirt']\n",
      "Name: 11004862, dtype: object\n"
     ]
    }
   ],
   "source": [
    "print(df_deputies.loc[11003541])\n",
    "print(df_deputies.loc[11004045])\n",
    "\n",
    "print(df_deputies.loc[11004385])\n",
    "print(df_deputies.loc[11004862])"
   ],
   "metadata": {
    "collapsed": false
   }
  },
  {
   "cell_type": "code",
   "execution_count": 40,
   "outputs": [
    {
     "name": "stdout",
     "output_type": "stream",
     "text": [
      "       deputy_id     event_id\n",
      "0       11004100     5309_1_0\n",
      "1       11003218     5309_2_0\n",
      "2       11004100     5309_3_0\n",
      "3       11004363     5309_4_0\n",
      "4       11004276     5309_7_0\n",
      "...          ...          ...\n",
      "97701   11004173  5295_1264_0\n",
      "97702   11003597  5295_1264_1\n",
      "97703   11004417  5295_1266_0\n",
      "97704   11004100  5295_1267_0\n",
      "97705   11004100  5295_1268_0\n",
      "\n",
      "[97706 rows x 2 columns]\n"
     ]
    }
   ],
   "source": [
    "dl_deputy_event = pd.read_csv('../0_datasets/integrated_data/dl_deputy_event.csv')\n",
    "\n",
    "print(dl_deputy_event)\n",
    "\n",
    "# deputy2 is found if deputy1 is mentioned\n",
    "def remove_deputy_links(deputy_event, deputy1, deputy2):\n",
    "    dfa = deputy_event[deputy_event['deputy_id'] == deputy1]['event_id']\n",
    "    return deputy_event[~(deputy_event['event_id'].isin(dfa.values) & (deputy_event['deputy_id'] == deputy2))]\n",
    "\n",
    "\n",
    "dl_deputy_event = remove_deputy_links(dl_deputy_event, 11003541, 11004045)\n",
    "dl_deputy_event = remove_deputy_links(dl_deputy_event, 11004385, 11004862)\n",
    "\n",
    "# Write new deputy_event link\n",
    "dl_deputy_event.to_csv('../0_datasets/integrated_data/dl_deputy_event.csv', index = False)\n"
   ],
   "metadata": {
    "collapsed": false
   }
  },
  {
   "cell_type": "code",
   "execution_count": null,
   "outputs": [],
   "source": [],
   "metadata": {
    "collapsed": false
   }
  }
 ],
 "metadata": {
  "kernelspec": {
   "display_name": "Python 3",
   "language": "python",
   "name": "python3"
  },
  "language_info": {
   "codemirror_mode": {
    "name": "ipython",
    "version": 2
   },
   "file_extension": ".py",
   "mimetype": "text/x-python",
   "name": "python",
   "nbconvert_exporter": "python",
   "pygments_lexer": "ipython2",
   "version": "2.7.6"
  }
 },
 "nbformat": 4,
 "nbformat_minor": 0
}
